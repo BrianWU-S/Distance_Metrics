{
 "cells": [
  {
   "cell_type": "markdown",
   "metadata": {},
   "source": [
    "# Distance Metric\n",
    "Many approaches in machine learning require a measure of distance between data points. Traditionally, practitioners would choose a standard distance metric (Euclidean, City-Block, Cosine, etc.) using a priori knowledge of the domain. Here we explore the priori knowledge about how to choose the standard distance metric in different experiment configurations.\n",
    "\n",
    "Though standard distance metrics are widely used, it is often difficult to design metrics that are well-suited to the particular data and task of interest. That's why scientists introduce the metric learning that aims at automatically constructing task-specific distance metrics from (weakly) supervised data, in a machine learning manner. The learned distance metric can then be used to perform various tasks (e.g., k-NN classification, clustering, information retrieval ...). Here we used KNN algorithm to test various distance metrics' performance on Animals with Attributes (AwA2) dataset.\n",
    "\n",
    "The properties of a metric:\n",
    "* non-negativity\n",
    "* symmetry\n",
    "* triangle inequality"
   ]
  },
  {
   "cell_type": "markdown",
   "metadata": {},
   "source": [
    "# Classification\n",
    "* **Metrics for vector**\n",
    "    * *Standard-distance Metric*\n",
    "        * Minkowsky\n",
    "            * Euclidean distance (p=2)\n",
    "            * Manhattan distance (p=1)\n",
    "            * Chebyshev distancem (p= positive infinity)\n",
    "        * Cosine Similarity\n",
    "        \n",
    "    * *Metric Learning:* The metric learning problem is generally formulated as an optimization problem where one seeks to find the parameters of a distance function that optimize some objective function measuring the agreement with the training data.\n",
    "        * Supervised Metric Learning\n",
    "            * Large Margin Nearest Neighbor Metric Learning (LMNN) \n",
    "            * Neighborhood Components Analysis (NCA)\n",
    "            * Local Fisher Discriminant Analysis (LFDA)\n",
    "            * Metric Learning for Kernel Regression (MLKR)\n",
    "        * Weakly Supervised Metric Learning\n",
    "            * Information Theoretic Metric Learning (ITML)\n",
    "            * Sparse High-Dimensional Metric Learning (SDML)\n",
    "            * Sparse Compositional Metric Learning (SCML)\n",
    "            * Relative Components Analysis (RCA)\n",
    "            * Metric Learning with Application for Clustering with Side Information (MMC)\n",
    "            * Metric Learning from Relative Comparisons by Minimizing Squared Residual (LSML)\n",
    "            \n",
    "        * Unsupervised Metric Learning（skip）\n",
    "            * Covariance\n",
    "            \n",
    "            \n",
    "* **Metrics for distribution (skip)**\n",
    "    * Earth’s Mover Distance (EMD)\n",
    "    * Maximum Mean Discrepancy (MMD),\n",
    "    * KL divergence\n",
    "    * JD divergence\n",
    "    * Bregman divergence\n",
    "    "
   ]
  },
  {
   "cell_type": "code",
   "execution_count": 1,
   "metadata": {},
   "outputs": [],
   "source": [
    "import sklearn\n",
    "import pandas as pd\n",
    "import numpy as np\n",
    "import matplotlib.pyplot as plt\n",
    "from sklearn import metrics, model_selection\n",
    "from sklearn.neighbors import KNeighborsClassifier"
   ]
  },
  {
   "cell_type": "markdown",
   "metadata": {},
   "source": [
    "# Data import"
   ]
  },
  {
   "cell_type": "code",
   "execution_count": 2,
   "metadata": {},
   "outputs": [],
   "source": [
    "X_features = pd.read_csv(r\"Dataset\\features\\ResNet101\\AwA2-features.txt\", header=None, sep=' ')\n",
    "Y_labels = pd.read_csv(r\"Dataset\\features\\ResNet101\\AwA2-labels.txt\", header=None, sep=' ')\n",
    "X_train, X_test, Y_train, Y_test = model_selection.train_test_split(X_features, Y_labels, test_size=0.4,\n",
    "                                                                        random_state=1234, stratify=Y_labels)"
   ]
  },
  {
   "cell_type": "code",
   "execution_count": 3,
   "metadata": {},
   "outputs": [
    {
     "name": "stdout",
     "output_type": "stream",
     "text": [
      "(37322, 2048) (37322, 1)\n",
      "(22393, 2048) (14929, 2048) (22393, 1) (14929, 1)\n"
     ]
    }
   ],
   "source": [
    "print(X_features.shape,Y_labels.shape)\n",
    "print(X_train.shape, X_test.shape, Y_train.shape, Y_test.shape)"
   ]
  },
  {
   "cell_type": "markdown",
   "metadata": {},
   "source": [
    "# Preprocessing"
   ]
  },
  {
   "cell_type": "code",
   "execution_count": 4,
   "metadata": {},
   "outputs": [],
   "source": [
    "from sklearn.decomposition import PCA"
   ]
  },
  {
   "cell_type": "markdown",
   "metadata": {},
   "source": [
    "### Performance before dimension reduction"
   ]
  },
  {
   "cell_type": "code",
   "execution_count": 5,
   "metadata": {},
   "outputs": [
    {
     "name": "stderr",
     "output_type": "stream",
     "text": [
      "D:\\anaconda\\envs\\AI_1\\lib\\site-packages\\sklearn\\neighbors\\_classification.py:179: DataConversionWarning: A column-vector y was passed when a 1d array was expected. Please change the shape of y to (n_samples,), for example using ravel().\n",
      "  return self._fit(X, y)\n"
     ]
    },
    {
     "name": "stdout",
     "output_type": "stream",
     "text": [
      "Accuracy: 0.890950499028736\n"
     ]
    }
   ],
   "source": [
    "# Create KNN Classifier\n",
    "knn_bdr = KNeighborsClassifier(n_neighbors=5)\n",
    "# Train the model using the training sets\n",
    "knn_bdr.fit(X_train, Y_train)\n",
    "# Predict the response for test dataset\n",
    "Y_pred_bdr = knn_bdr.predict(X_test)\n",
    "# Model Accuracy\n",
    "print(\"Accuracy:\",metrics.accuracy_score(Y_test, Y_pred_bdr))"
   ]
  },
  {
   "cell_type": "markdown",
   "metadata": {},
   "source": [
    "### Performance after dimension reduction"
   ]
  },
  {
   "cell_type": "code",
   "execution_count": 11,
   "metadata": {},
   "outputs": [
    {
     "name": "stderr",
     "output_type": "stream",
     "text": [
      "D:\\anaconda\\envs\\AI_1\\lib\\site-packages\\sklearn\\neighbors\\_classification.py:179: DataConversionWarning: A column-vector y was passed when a 1d array was expected. Please change the shape of y to (n_samples,), for example using ravel().\n",
      "  return self._fit(X, y)\n"
     ]
    },
    {
     "name": "stdout",
     "output_type": "stream",
     "text": [
      "N_components:  20 Accuracy: 0.8626163842186348\n"
     ]
    },
    {
     "name": "stderr",
     "output_type": "stream",
     "text": [
      "D:\\anaconda\\envs\\AI_1\\lib\\site-packages\\sklearn\\neighbors\\_classification.py:179: DataConversionWarning: A column-vector y was passed when a 1d array was expected. Please change the shape of y to (n_samples,), for example using ravel().\n",
      "  return self._fit(X, y)\n"
     ]
    },
    {
     "name": "stdout",
     "output_type": "stream",
     "text": [
      "N_components:  30 Accuracy: 0.8826445173822761\n"
     ]
    },
    {
     "name": "stderr",
     "output_type": "stream",
     "text": [
      "D:\\anaconda\\envs\\AI_1\\lib\\site-packages\\sklearn\\neighbors\\_classification.py:179: DataConversionWarning: A column-vector y was passed when a 1d array was expected. Please change the shape of y to (n_samples,), for example using ravel().\n",
      "  return self._fit(X, y)\n"
     ]
    },
    {
     "name": "stdout",
     "output_type": "stream",
     "text": [
      "N_components:  40 Accuracy: 0.8892089222318976\n"
     ]
    },
    {
     "name": "stderr",
     "output_type": "stream",
     "text": [
      "D:\\anaconda\\envs\\AI_1\\lib\\site-packages\\sklearn\\neighbors\\_classification.py:179: DataConversionWarning: A column-vector y was passed when a 1d array was expected. Please change the shape of y to (n_samples,), for example using ravel().\n",
      "  return self._fit(X, y)\n"
     ]
    },
    {
     "name": "stdout",
     "output_type": "stream",
     "text": [
      "N_components:  50 Accuracy: 0.8940987340076362\n"
     ]
    },
    {
     "name": "stderr",
     "output_type": "stream",
     "text": [
      "D:\\anaconda\\envs\\AI_1\\lib\\site-packages\\sklearn\\neighbors\\_classification.py:179: DataConversionWarning: A column-vector y was passed when a 1d array was expected. Please change the shape of y to (n_samples,), for example using ravel().\n",
      "  return self._fit(X, y)\n"
     ]
    },
    {
     "name": "stdout",
     "output_type": "stream",
     "text": [
      "N_components:  100 Accuracy: 0.8999263179047492\n"
     ]
    },
    {
     "name": "stderr",
     "output_type": "stream",
     "text": [
      "D:\\anaconda\\envs\\AI_1\\lib\\site-packages\\sklearn\\neighbors\\_classification.py:179: DataConversionWarning: A column-vector y was passed when a 1d array was expected. Please change the shape of y to (n_samples,), for example using ravel().\n",
      "  return self._fit(X, y)\n"
     ]
    },
    {
     "name": "stdout",
     "output_type": "stream",
     "text": [
      "N_components:  150 Accuracy: 0.9006631388572577\n"
     ]
    },
    {
     "name": "stderr",
     "output_type": "stream",
     "text": [
      "D:\\anaconda\\envs\\AI_1\\lib\\site-packages\\sklearn\\neighbors\\_classification.py:179: DataConversionWarning: A column-vector y was passed when a 1d array was expected. Please change the shape of y to (n_samples,), for example using ravel().\n",
      "  return self._fit(X, y)\n"
     ]
    },
    {
     "name": "stdout",
     "output_type": "stream",
     "text": [
      "N_components:  200 Accuracy: 0.9011990086409003\n"
     ]
    }
   ],
   "source": [
    "n_list=[20,30,40,50,100,150,200]\n",
    "pca_acc_list=[]\n",
    "for n_components in n_list:\n",
    "    pca_method = PCA(n_components=n_components)\n",
    "    pca_method.fit(X_train)\n",
    "    PCA_reduced_features = pca_method.transform(X_features)\n",
    "    PCA_reduced_x_train,PCA_reduced_x_test,PCA_reduced_y_train,PCA_reduced_y_test=model_selection.train_test_split(PCA_reduced_features,Y_labels, test_size=0.4,random_state=1234,stratify=Y_labels)\n",
    "    knn_adr = KNeighborsClassifier(n_neighbors=5)\n",
    "    knn_adr.fit(PCA_reduced_x_train, PCA_reduced_y_train)\n",
    "    Y_pred_adr = knn_adr.predict(PCA_reduced_x_test)\n",
    "    pca_acc_list.append(metrics.accuracy_score(PCA_reduced_y_test, Y_pred_adr))\n",
    "    print(\"N_components: \",n_components,\"Accuracy:\",pca_acc_list[-1])"
   ]
  },
  {
   "cell_type": "code",
   "execution_count": 31,
   "metadata": {},
   "outputs": [
    {
     "name": "stdout",
     "output_type": "stream",
     "text": [
      "[0.8626163842186348, 0.8826445173822761, 0.8892089222318976, 0.8940987340076362, 0.8999263179047492, 0.9006631388572577, 0.9011990086409003]\n"
     ]
    },
    {
     "data": {
      "image/png": "[encoded data removed]",
      "text/plain": [
       "<Figure size 1440x720 with 1 Axes>"
      ]
     },
     "metadata": {
      "needs_background": "light"
     },
     "output_type": "display_data"
    }
   ],
   "source": [
    "print(pca_acc_list)\n",
    "plt.figure(figsize=[20,10])\n",
    "plt.plot(n_list, pca_acc_list)\n",
    "plt.xlabel(\"Dimension\",fontdict={'size':18})\n",
    "plt.ylabel(\"Accuracy\",fontdict={'size':18})\n",
    "plt.xticks(fontsize=18)\n",
    "plt.yticks(fontsize=18)\n",
    "plt.title(\"PCA preprocessing acc-dim graph\",fontsize=18)\n",
    "plt.show()"
   ]
  },
  {
   "cell_type": "code",
   "execution_count": 16,
   "metadata": {},
   "outputs": [],
   "source": [
    "pca_method = PCA(n_components=50)\n",
    "pca_method.fit(X_train)\n",
    "PCA_reduced_features = pca_method.transform(X_features)\n",
    "PCA_reduced_x_train,PCA_reduced_x_test,PCA_reduced_y_train,PCA_reduced_y_test=model_selection.train_test_split(PCA_reduced_features,Y_labels, test_size=0.4,random_state=1234,stratify=Y_labels)"
   ]
  },
  {
   "cell_type": "markdown",
   "metadata": {},
   "source": [
    "# 1st. Minkowsky (use reduced dimension: 50)"
   ]
  },
  {
   "cell_type": "markdown",
   "metadata": {},
   "source": [
    "## Manhattan distance (p=1)"
   ]
  },
  {
   "cell_type": "code",
   "execution_count": 17,
   "metadata": {},
   "outputs": [],
   "source": [
    "knn_man = KNeighborsClassifier(n_neighbors=5,p=1)"
   ]
  },
  {
   "cell_type": "code",
   "execution_count": 18,
   "metadata": {},
   "outputs": [
    {
     "name": "stderr",
     "output_type": "stream",
     "text": [
      "D:\\anaconda\\envs\\AI_1\\lib\\site-packages\\sklearn\\neighbors\\_classification.py:179: DataConversionWarning: A column-vector y was passed when a 1d array was expected. Please change the shape of y to (n_samples,), for example using ravel().\n",
      "  return self._fit(X, y)\n"
     ]
    },
    {
     "data": {
      "text/plain": [
       "KNeighborsClassifier(p=1)"
      ]
     },
     "execution_count": 18,
     "metadata": {},
     "output_type": "execute_result"
    }
   ],
   "source": [
    "knn_man.fit(PCA_reduced_x_train, PCA_reduced_y_train)"
   ]
  },
  {
   "cell_type": "code",
   "execution_count": 19,
   "metadata": {},
   "outputs": [
    {
     "name": "stdout",
     "output_type": "stream",
     "text": [
      "Accuracy: 0.8933619130551276\n"
     ]
    }
   ],
   "source": [
    "Y_pred_man = knn_man.predict(PCA_reduced_x_test)\n",
    "print(\"Accuracy:\",metrics.accuracy_score(PCA_reduced_y_test, Y_pred_man))"
   ]
  },
  {
   "cell_type": "code",
   "execution_count": 27,
   "metadata": {},
   "outputs": [
    {
     "name": "stderr",
     "output_type": "stream",
     "text": [
      "D:\\anaconda\\envs\\AI_1\\lib\\site-packages\\sklearn\\neighbors\\_classification.py:179: DataConversionWarning: A column-vector y was passed when a 1d array was expected. Please change the shape of y to (n_samples,), for example using ravel().\n",
      "  return self._fit(X, y)\n"
     ]
    },
    {
     "name": "stdout",
     "output_type": "stream",
     "text": [
      "n_neighbours||K:  2 Accuracy: 0.8598700515774667\n"
     ]
    },
    {
     "name": "stderr",
     "output_type": "stream",
     "text": [
      "D:\\anaconda\\envs\\AI_1\\lib\\site-packages\\sklearn\\neighbors\\_classification.py:179: DataConversionWarning: A column-vector y was passed when a 1d array was expected. Please change the shape of y to (n_samples,), for example using ravel().\n",
      "  return self._fit(X, y)\n"
     ]
    },
    {
     "name": "stdout",
     "output_type": "stream",
     "text": [
      "n_neighbours||K:  5 Accuracy: 0.8933619130551276\n"
     ]
    },
    {
     "name": "stderr",
     "output_type": "stream",
     "text": [
      "D:\\anaconda\\envs\\AI_1\\lib\\site-packages\\sklearn\\neighbors\\_classification.py:179: DataConversionWarning: A column-vector y was passed when a 1d array was expected. Please change the shape of y to (n_samples,), for example using ravel().\n",
      "  return self._fit(X, y)\n"
     ]
    },
    {
     "name": "stdout",
     "output_type": "stream",
     "text": [
      "n_neighbours||K:  8 Accuracy: 0.8927590595485297\n"
     ]
    },
    {
     "name": "stderr",
     "output_type": "stream",
     "text": [
      "D:\\anaconda\\envs\\AI_1\\lib\\site-packages\\sklearn\\neighbors\\_classification.py:179: DataConversionWarning: A column-vector y was passed when a 1d array was expected. Please change the shape of y to (n_samples,), for example using ravel().\n",
      "  return self._fit(X, y)\n"
     ]
    },
    {
     "name": "stdout",
     "output_type": "stream",
     "text": [
      "n_neighbours||K:  10 Accuracy: 0.8947685712371893\n"
     ]
    },
    {
     "name": "stderr",
     "output_type": "stream",
     "text": [
      "D:\\anaconda\\envs\\AI_1\\lib\\site-packages\\sklearn\\neighbors\\_classification.py:179: DataConversionWarning: A column-vector y was passed when a 1d array was expected. Please change the shape of y to (n_samples,), for example using ravel().\n",
      "  return self._fit(X, y)\n"
     ]
    },
    {
     "name": "stdout",
     "output_type": "stream",
     "text": [
      "n_neighbours||K:  15 Accuracy: 0.8969120503717597\n"
     ]
    },
    {
     "name": "stderr",
     "output_type": "stream",
     "text": [
      "D:\\anaconda\\envs\\AI_1\\lib\\site-packages\\sklearn\\neighbors\\_classification.py:179: DataConversionWarning: A column-vector y was passed when a 1d array was expected. Please change the shape of y to (n_samples,), for example using ravel().\n",
      "  return self._fit(X, y)\n"
     ]
    },
    {
     "name": "stdout",
     "output_type": "stream",
     "text": [
      "n_neighbours||K:  20 Accuracy: 0.8933619130551276\n"
     ]
    },
    {
     "name": "stderr",
     "output_type": "stream",
     "text": [
      "D:\\anaconda\\envs\\AI_1\\lib\\site-packages\\sklearn\\neighbors\\_classification.py:179: DataConversionWarning: A column-vector y was passed when a 1d array was expected. Please change the shape of y to (n_samples,), for example using ravel().\n",
      "  return self._fit(X, y)\n"
     ]
    },
    {
     "name": "stdout",
     "output_type": "stream",
     "text": [
      "n_neighbours||K:  25 Accuracy: 0.8906825641369147\n"
     ]
    }
   ],
   "source": [
    "K_list=[2,5,8,10,15,20,25]\n",
    "man_acc_list=[]\n",
    "for K in K_list:\n",
    "    knn_man = KNeighborsClassifier(n_neighbors=K,p=1)\n",
    "    knn_man.fit(PCA_reduced_x_train, PCA_reduced_y_train)\n",
    "    Y_pred_man = knn_man.predict(PCA_reduced_x_test)\n",
    "    man_acc_list.append(metrics.accuracy_score(PCA_reduced_y_test, Y_pred_man))\n",
    "    print(\"n_neighbours||K: \",K,\"Accuracy:\",man_acc_list[-1])"
   ]
  },
  {
   "cell_type": "code",
   "execution_count": 32,
   "metadata": {},
   "outputs": [
    {
     "name": "stdout",
     "output_type": "stream",
     "text": [
      "[0.8598700515774667, 0.8933619130551276, 0.8927590595485297, 0.8947685712371893, 0.8969120503717597, 0.8933619130551276, 0.8906825641369147]\n"
     ]
    },
    {
     "data": {
      "image/png": "[encoded data removed]",
      "text/plain": [
       "<Figure size 1440x720 with 1 Axes>"
      ]
     },
     "metadata": {
      "needs_background": "light"
     },
     "output_type": "display_data"
    }
   ],
   "source": [
    "print(man_acc_list)\n",
    "plt.figure(figsize=[20,10])\n",
    "plt.plot(K_list, man_acc_list)\n",
    "plt.scatter(K_list,man_acc_list)\n",
    "plt.xlabel(\"N_neighbours\",fontdict={'size':18})\n",
    "plt.ylabel(\"Accuracy\",fontdict={'size':18})\n",
    "plt.xticks(fontsize=18)\n",
    "plt.yticks(fontsize=18)\n",
    "plt.title(\"Manhattan distance\",fontsize=28)\n",
    "plt.show()"
   ]
  },
  {
   "cell_type": "markdown",
   "metadata": {},
   "source": [
    "## Euclidean distance (p=2)"
   ]
  },
  {
   "cell_type": "code",
   "execution_count": 20,
   "metadata": {},
   "outputs": [],
   "source": [
    "knn_euclid = KNeighborsClassifier(n_neighbors=5,p=2)"
   ]
  },
  {
   "cell_type": "code",
   "execution_count": 21,
   "metadata": {},
   "outputs": [
    {
     "name": "stderr",
     "output_type": "stream",
     "text": [
      "D:\\anaconda\\envs\\AI_1\\lib\\site-packages\\sklearn\\neighbors\\_classification.py:179: DataConversionWarning: A column-vector y was passed when a 1d array was expected. Please change the shape of y to (n_samples,), for example using ravel().\n",
      "  return self._fit(X, y)\n"
     ]
    },
    {
     "data": {
      "text/plain": [
       "KNeighborsClassifier()"
      ]
     },
     "execution_count": 21,
     "metadata": {},
     "output_type": "execute_result"
    }
   ],
   "source": [
    "knn_euclid.fit(PCA_reduced_x_train, PCA_reduced_y_train)"
   ]
  },
  {
   "cell_type": "code",
   "execution_count": 22,
   "metadata": {},
   "outputs": [
    {
     "name": "stdout",
     "output_type": "stream",
     "text": [
      "Accuracy: 0.8945676200683234\n"
     ]
    }
   ],
   "source": [
    "Y_pred_euclid = knn_euclid.predict(PCA_reduced_x_test)\n",
    "print(\"Accuracy:\",metrics.accuracy_score(PCA_reduced_y_test, Y_pred_euclid))"
   ]
  },
  {
   "cell_type": "code",
   "execution_count": 36,
   "metadata": {},
   "outputs": [
    {
     "name": "stderr",
     "output_type": "stream",
     "text": [
      "D:\\anaconda\\envs\\AI_1\\lib\\site-packages\\sklearn\\neighbors\\_classification.py:179: DataConversionWarning: A column-vector y was passed when a 1d array was expected. Please change the shape of y to (n_samples,), for example using ravel().\n",
      "  return self._fit(X, y)\n"
     ]
    },
    {
     "name": "stdout",
     "output_type": "stream",
     "text": [
      "n_neighbours||K:  2 Accuracy: 0.8610087748677071\n"
     ]
    },
    {
     "name": "stderr",
     "output_type": "stream",
     "text": [
      "D:\\anaconda\\envs\\AI_1\\lib\\site-packages\\sklearn\\neighbors\\_classification.py:179: DataConversionWarning: A column-vector y was passed when a 1d array was expected. Please change the shape of y to (n_samples,), for example using ravel().\n",
      "  return self._fit(X, y)\n"
     ]
    },
    {
     "name": "stdout",
     "output_type": "stream",
     "text": [
      "n_neighbours||K:  5 Accuracy: 0.8945676200683234\n"
     ]
    },
    {
     "name": "stderr",
     "output_type": "stream",
     "text": [
      "D:\\anaconda\\envs\\AI_1\\lib\\site-packages\\sklearn\\neighbors\\_classification.py:179: DataConversionWarning: A column-vector y was passed when a 1d array was expected. Please change the shape of y to (n_samples,), for example using ravel().\n",
      "  return self._fit(X, y)\n"
     ]
    },
    {
     "name": "stdout",
     "output_type": "stream",
     "text": [
      "n_neighbours||K:  8 Accuracy: 0.8961082456962958\n"
     ]
    },
    {
     "name": "stderr",
     "output_type": "stream",
     "text": [
      "D:\\anaconda\\envs\\AI_1\\lib\\site-packages\\sklearn\\neighbors\\_classification.py:179: DataConversionWarning: A column-vector y was passed when a 1d array was expected. Please change the shape of y to (n_samples,), for example using ravel().\n",
      "  return self._fit(X, y)\n"
     ]
    },
    {
     "name": "stdout",
     "output_type": "stream",
     "text": [
      "n_neighbours||K:  10 Accuracy: 0.8975149038783575\n"
     ]
    },
    {
     "name": "stderr",
     "output_type": "stream",
     "text": [
      "D:\\anaconda\\envs\\AI_1\\lib\\site-packages\\sklearn\\neighbors\\_classification.py:179: DataConversionWarning: A column-vector y was passed when a 1d array was expected. Please change the shape of y to (n_samples,), for example using ravel().\n",
      "  return self._fit(X, y)\n"
     ]
    },
    {
     "name": "stdout",
     "output_type": "stream",
     "text": [
      "n_neighbours||K:  15 Accuracy: 0.8983856922767768\n"
     ]
    },
    {
     "name": "stderr",
     "output_type": "stream",
     "text": [
      "D:\\anaconda\\envs\\AI_1\\lib\\site-packages\\sklearn\\neighbors\\_classification.py:179: DataConversionWarning: A column-vector y was passed when a 1d array was expected. Please change the shape of y to (n_samples,), for example using ravel().\n",
      "  return self._fit(X, y)\n"
     ]
    },
    {
     "name": "stdout",
     "output_type": "stream",
     "text": [
      "n_neighbours||K:  20 Accuracy: 0.8959742782503851\n"
     ]
    },
    {
     "name": "stderr",
     "output_type": "stream",
     "text": [
      "D:\\anaconda\\envs\\AI_1\\lib\\site-packages\\sklearn\\neighbors\\_classification.py:179: DataConversionWarning: A column-vector y was passed when a 1d array was expected. Please change the shape of y to (n_samples,), for example using ravel().\n",
      "  return self._fit(X, y)\n"
     ]
    },
    {
     "name": "stdout",
     "output_type": "stream",
     "text": [
      "n_neighbours||K:  25 Accuracy: 0.895103489851966\n"
     ]
    }
   ],
   "source": [
    "euclid_acc_list=[]\n",
    "for K in K_list:\n",
    "    knn_euclid = KNeighborsClassifier(n_neighbors=K,p=2)\n",
    "    knn_euclid.fit(PCA_reduced_x_train, PCA_reduced_y_train)\n",
    "    Y_pred_euclid = knn_euclid.predict(PCA_reduced_x_test)\n",
    "    euclid_acc_list.append(metrics.accuracy_score(PCA_reduced_y_test, Y_pred_euclid))\n",
    "    print(\"n_neighbours||K: \",K,\"Accuracy:\",euclid_acc_list[-1])"
   ]
  },
  {
   "cell_type": "code",
   "execution_count": 37,
   "metadata": {},
   "outputs": [
    {
     "name": "stdout",
     "output_type": "stream",
     "text": [
      "[0.8610087748677071, 0.8945676200683234, 0.8961082456962958, 0.8975149038783575, 0.8983856922767768, 0.8959742782503851, 0.895103489851966]\n"
     ]
    },
    {
     "data": {
      "image/png": "[encoded data removed]",
      "text/plain": [
       "<Figure size 1440x720 with 1 Axes>"
      ]
     },
     "metadata": {
      "needs_background": "light"
     },
     "output_type": "display_data"
    }
   ],
   "source": [
    "print(euclid_acc_list)\n",
    "plt.figure(figsize=[20,10])\n",
    "plt.plot(K_list, euclid_acc_list)\n",
    "plt.scatter(K_list,euclid_acc_list)\n",
    "plt.xlabel(\"N_neighbours\",fontdict={'size':18})\n",
    "plt.ylabel(\"Accuracy\",fontdict={'size':18})\n",
    "plt.xticks(fontsize=18)\n",
    "plt.yticks(fontsize=18)\n",
    "plt.title(\"Euclidean distance\",fontsize=28)\n",
    "plt.show()"
   ]
  },
  {
   "cell_type": "markdown",
   "metadata": {},
   "source": [
    "## Chebyshev distance (p= positive infinity)"
   ]
  },
  {
   "cell_type": "code",
   "execution_count": 23,
   "metadata": {},
   "outputs": [],
   "source": [
    "from sklearn.neighbors import DistanceMetric"
   ]
  },
  {
   "cell_type": "code",
   "execution_count": 24,
   "metadata": {},
   "outputs": [],
   "source": [
    "cheb_metric=DistanceMetric.get_metric('chebyshev')"
   ]
  },
  {
   "cell_type": "code",
   "execution_count": 25,
   "metadata": {},
   "outputs": [],
   "source": [
    "knn_cheb = KNeighborsClassifier(n_neighbors=5,metric='chebyshev')"
   ]
  },
  {
   "cell_type": "code",
   "execution_count": 26,
   "metadata": {},
   "outputs": [
    {
     "name": "stderr",
     "output_type": "stream",
     "text": [
      "D:\\anaconda\\envs\\AI_1\\lib\\site-packages\\sklearn\\neighbors\\_classification.py:179: DataConversionWarning: A column-vector y was passed when a 1d array was expected. Please change the shape of y to (n_samples,), for example using ravel().\n",
      "  return self._fit(X, y)\n"
     ]
    },
    {
     "name": "stdout",
     "output_type": "stream",
     "text": [
      "Accuracy: 0.8709893495880501\n"
     ]
    }
   ],
   "source": [
    "knn_cheb.fit(PCA_reduced_x_train, PCA_reduced_y_train)\n",
    "Y_pred_cheb = knn_cheb.predict(PCA_reduced_x_test)\n",
    "print(\"Accuracy:\",metrics.accuracy_score(PCA_reduced_y_test, Y_pred_cheb))"
   ]
  },
  {
   "cell_type": "code",
   "execution_count": 38,
   "metadata": {},
   "outputs": [
    {
     "name": "stderr",
     "output_type": "stream",
     "text": [
      "D:\\anaconda\\envs\\AI_1\\lib\\site-packages\\sklearn\\neighbors\\_classification.py:179: DataConversionWarning: A column-vector y was passed when a 1d array was expected. Please change the shape of y to (n_samples,), for example using ravel().\n",
      "  return self._fit(X, y)\n"
     ]
    },
    {
     "name": "stdout",
     "output_type": "stream",
     "text": [
      "n_neighbours||K:  2 Accuracy: 0.8308660995378123\n"
     ]
    },
    {
     "name": "stderr",
     "output_type": "stream",
     "text": [
      "D:\\anaconda\\envs\\AI_1\\lib\\site-packages\\sklearn\\neighbors\\_classification.py:179: DataConversionWarning: A column-vector y was passed when a 1d array was expected. Please change the shape of y to (n_samples,), for example using ravel().\n",
      "  return self._fit(X, y)\n"
     ]
    },
    {
     "name": "stdout",
     "output_type": "stream",
     "text": [
      "n_neighbours||K:  5 Accuracy: 0.8709893495880501\n"
     ]
    },
    {
     "name": "stderr",
     "output_type": "stream",
     "text": [
      "D:\\anaconda\\envs\\AI_1\\lib\\site-packages\\sklearn\\neighbors\\_classification.py:179: DataConversionWarning: A column-vector y was passed when a 1d array was expected. Please change the shape of y to (n_samples,), for example using ravel().\n",
      "  return self._fit(X, y)\n"
     ]
    },
    {
     "name": "stdout",
     "output_type": "stream",
     "text": [
      "n_neighbours||K:  8 Accuracy: 0.8732667961685311\n"
     ]
    },
    {
     "name": "stderr",
     "output_type": "stream",
     "text": [
      "D:\\anaconda\\envs\\AI_1\\lib\\site-packages\\sklearn\\neighbors\\_classification.py:179: DataConversionWarning: A column-vector y was passed when a 1d array was expected. Please change the shape of y to (n_samples,), for example using ravel().\n",
      "  return self._fit(X, y)\n"
     ]
    },
    {
     "name": "stdout",
     "output_type": "stream",
     "text": [
      "n_neighbours||K:  10 Accuracy: 0.8720610891553352\n"
     ]
    },
    {
     "name": "stderr",
     "output_type": "stream",
     "text": [
      "D:\\anaconda\\envs\\AI_1\\lib\\site-packages\\sklearn\\neighbors\\_classification.py:179: DataConversionWarning: A column-vector y was passed when a 1d array was expected. Please change the shape of y to (n_samples,), for example using ravel().\n",
      "  return self._fit(X, y)\n"
     ]
    },
    {
     "name": "stdout",
     "output_type": "stream",
     "text": [
      "n_neighbours||K:  15 Accuracy: 0.8729318775537545\n"
     ]
    },
    {
     "name": "stderr",
     "output_type": "stream",
     "text": [
      "D:\\anaconda\\envs\\AI_1\\lib\\site-packages\\sklearn\\neighbors\\_classification.py:179: DataConversionWarning: A column-vector y was passed when a 1d array was expected. Please change the shape of y to (n_samples,), for example using ravel().\n",
      "  return self._fit(X, y)\n"
     ]
    },
    {
     "name": "stdout",
     "output_type": "stream",
     "text": [
      "n_neighbours||K:  20 Accuracy: 0.8690468216223458\n"
     ]
    },
    {
     "name": "stderr",
     "output_type": "stream",
     "text": [
      "D:\\anaconda\\envs\\AI_1\\lib\\site-packages\\sklearn\\neighbors\\_classification.py:179: DataConversionWarning: A column-vector y was passed when a 1d array was expected. Please change the shape of y to (n_samples,), for example using ravel().\n",
      "  return self._fit(X, y)\n"
     ]
    },
    {
     "name": "stdout",
     "output_type": "stream",
     "text": [
      "n_neighbours||K:  25 Accuracy: 0.8684439681157479\n"
     ]
    }
   ],
   "source": [
    "cheb_acc_list=[]\n",
    "for K in K_list:\n",
    "    knn_cheb = KNeighborsClassifier(n_neighbors=K,metric='chebyshev')\n",
    "    knn_cheb.fit(PCA_reduced_x_train, PCA_reduced_y_train)\n",
    "    Y_pred_cheb = knn_cheb.predict(PCA_reduced_x_test)\n",
    "    cheb_acc_list.append(metrics.accuracy_score(PCA_reduced_y_test, Y_pred_cheb))\n",
    "    print(\"n_neighbours||K: \",K,\"Accuracy:\",cheb_acc_list[-1])"
   ]
  },
  {
   "cell_type": "code",
   "execution_count": 39,
   "metadata": {},
   "outputs": [
    {
     "name": "stdout",
     "output_type": "stream",
     "text": [
      "[0.8308660995378123, 0.8709893495880501, 0.8732667961685311, 0.8720610891553352, 0.8729318775537545, 0.8690468216223458, 0.8684439681157479]\n"
     ]
    },
    {
     "data": {
      "image/png": "[encoded data removed]",
      "text/plain": [
       "<Figure size 1440x720 with 1 Axes>"
      ]
     },
     "metadata": {
      "needs_background": "light"
     },
     "output_type": "display_data"
    }
   ],
   "source": [
    "print(cheb_acc_list)\n",
    "plt.figure(figsize=[20,10])\n",
    "plt.plot(K_list, cheb_acc_list)\n",
    "plt.scatter(K_list,cheb_acc_list)\n",
    "plt.xlabel(\"N_neighbours\",fontdict={'size':18})\n",
    "plt.ylabel(\"Accuracy\",fontdict={'size':18})\n",
    "plt.xticks(fontsize=18)\n",
    "plt.yticks(fontsize=18)\n",
    "plt.title(\"Chebyshev distance\",fontsize=28)\n",
    "plt.show()"
   ]
  },
  {
   "cell_type": "code",
   "execution_count": 44,
   "metadata": {},
   "outputs": [
    {
     "data": {
      "image/png": "[encoded data removed]",
      "text/plain": [
       "<Figure size 1440x720 with 1 Axes>"
      ]
     },
     "metadata": {
      "needs_background": "light"
     },
     "output_type": "display_data"
    }
   ],
   "source": [
    "plt.figure(figsize=[20,10])\n",
    "plt.plot(K_list, man_acc_list)\n",
    "plt.scatter(K_list, man_acc_list)\n",
    "plt.plot(K_list, euclid_acc_list)\n",
    "plt.scatter(K_list,euclid_acc_list)\n",
    "plt.plot(K_list, cheb_acc_list)\n",
    "plt.scatter(K_list,cheb_acc_list)\n",
    "plt.xlabel(\"N_neighbours\",fontdict={'size':18})\n",
    "plt.ylabel(\"Accuracy\",fontdict={'size':18})\n",
    "plt.xticks(fontsize=18)\n",
    "plt.yticks(fontsize=18)\n",
    "plt.title(\"Minkowsky distance\",fontsize=28)\n",
    "plt.legend(['Manhattan','Euclidean','Chebyshev'],fontsize=28)\n",
    "plt.show()"
   ]
  },
  {
   "cell_type": "markdown",
   "metadata": {},
   "source": [
    "## Cosine Similarity\n",
    "Note that in order to be used within the BallTree, the distance must be a true metric: i.e. it must satisfy the following properties\n",
    "* Non-negativity: d(x, y) >= 0\n",
    "* Identity: d(x, y) = 0 if and only if x == y\n",
    "* Symmetry: d(x, y) = d(y, x)\n",
    "* Triangle Inequality: d(x, y) + d(y, z) >= d(x, z)\n",
    "\n",
    "Note: Because of the Python object overhead involved in calling the python function, **this will be fairly slow**, but it will have the same scaling as other distances."
   ]
  },
  {
   "cell_type": "code",
   "execution_count": 45,
   "metadata": {},
   "outputs": [],
   "source": [
    "from sklearn.metrics.pairwise import cosine_similarity"
   ]
  },
  {
   "cell_type": "code",
   "execution_count": 46,
   "metadata": {},
   "outputs": [],
   "source": [
    "def custom_dist(x,y):\n",
    "    cosine_similarity=np.dot(x,y)/(np.multiply(np.sqrt(np.sum(np.square(x))),np.sqrt(np.sum(np.square(y)))))\n",
    "    return (1-cosine_similarity)*0.5"
   ]
  },
  {
   "cell_type": "code",
   "execution_count": 47,
   "metadata": {},
   "outputs": [],
   "source": [
    "x=PCA_reduced_x_train[0]\n",
    "y=PCA_reduced_x_train[1]"
   ]
  },
  {
   "cell_type": "code",
   "execution_count": 55,
   "metadata": {},
   "outputs": [
    {
     "data": {
      "text/plain": [
       "0.5784851125169888"
      ]
     },
     "execution_count": 55,
     "metadata": {},
     "output_type": "execute_result"
    }
   ],
   "source": [
    "custom_dist(x,y)"
   ]
  },
  {
   "cell_type": "code",
   "execution_count": 47,
   "metadata": {},
   "outputs": [],
   "source": [
    "knn_cs = KNeighborsClassifier(n_neighbors=5,metric=custom_dist,n_jobs=8)"
   ]
  },
  {
   "cell_type": "code",
   "execution_count": 48,
   "metadata": {},
   "outputs": [
    {
     "name": "stderr",
     "output_type": "stream",
     "text": [
      "D:\\anaconda\\envs\\AI_1\\lib\\site-packages\\sklearn\\neighbors\\_classification.py:179: DataConversionWarning: A column-vector y was passed when a 1d array was expected. Please change the shape of y to (n_samples,), for example using ravel().\n",
      "  return self._fit(X, y)\n"
     ]
    },
    {
     "data": {
      "text/plain": [
       "KNeighborsClassifier(metric=<function custom_dist at 0x00000177D4D191E0>,\n",
       "                     n_jobs=8)"
      ]
     },
     "execution_count": 48,
     "metadata": {},
     "output_type": "execute_result"
    }
   ],
   "source": [
    "knn_cs.fit(PCA_reduced_x_train, PCA_reduced_y_train)"
   ]
  },
  {
   "cell_type": "code",
   "execution_count": 49,
   "metadata": {},
   "outputs": [
    {
     "name": "stdout",
     "output_type": "stream",
     "text": [
      "Accuracy: 0.8910844664746467\n"
     ]
    }
   ],
   "source": [
    "Y_pred_cs = knn_cs.predict(PCA_reduced_x_test)\n",
    "print(\"Accuracy:\",metrics.accuracy_score(PCA_reduced_y_test, Y_pred_cs))"
   ]
  },
  {
   "cell_type": "code",
   "execution_count": null,
   "metadata": {},
   "outputs": [],
   "source": []
  },
  {
   "cell_type": "markdown",
   "metadata": {},
   "source": [
    "# 2nd. Supervised Learning (use reduced dimension: 50)\n",
    "**Goal**:\n",
    "The goal in Supervised Learning is to learn a distance metric that puts points with the same label close together while pushing away points with different labels. That is to say, transform points in a new space, in which the distance between two points from the sam e class will be small, and the distance between two points from different classes will be large.\n",
    "\n",
    "**Data**:\n",
    "The algorithm has access to a set of data points, each of them belonging to a class (label) as in a standard classification problem."
   ]
  },
  {
   "cell_type": "markdown",
   "metadata": {},
   "source": [
    "# 2.1  LMNN\n",
    "\n",
    "**How does LMNN works:**\n",
    "\n",
    "LMNN learns a **Mahalanobis distance metric** in the KNN classification setting. The learned metric attempts to keep close k-nearest neighbors from the same class, while keeping examples from different classes separated by a large margin. This algorithm makes no assumptions about the distribution of the data.\n",
    "\n",
    "**Mahalanobis distances**:\n",
    "\n",
    "$D(x, x') = \\sqrt{(x-x')^\\top M(x-x')}$ \n",
    "\n",
    "Mahalanobis distance is a Euclidean distance after a linear transformation of the feature space defined by L (taking L to be the identity matrix recovers the standard Euclidean distance). Mahalanobis distance metric learning can thus be seen as learning a new embedding space of dimension num_dims. Note that when num_dims is smaller than n_features, this achieves dimensionality reduction.\n",
    "    \n",
    "**Optimization Goal:**\n",
    "\n",
    "$\\min_\\mathbf{L}\\sum_{i, j}\\eta_{ij}||\\mathbf{L(x_i-x_j)}||^2 +\n",
    "c\\sum_{i, j, l}\\eta_{ij}(1-y_{ij})[1+||\\mathbf{L(x_i-x_j)}||^2-||\n",
    "\\mathbf{L(x_i-x_l)}||^2]_+)$\n",
    "\n",
    "**Brief Explanation:**\n",
    "$x_i$  is a data point, $x_j$ is one of its k-nearest neighbors sharing the same label, and $x_l$ are all the other instances within that region with different labels, $η_{ij}$,$y_{ij}$∈{0,1} are both the indicators, $η_{ij}$ represents $x_j$ is the k-nearest neighbors (with same labels) of $x_i$, $y_{ij}$=0 indicates $x_i$,$x_j$ belong to different classes, [⋅]+=max(0,⋅) is the Hinge loss.\n",
    "Intuition: keep close k-nearest neighbors from the same class (first item in the Optimization Goal need to be small), while keeping examples from different classes separated by a large margin(second item in the Optimization Goal need to be small)"
   ]
  },
  {
   "cell_type": "code",
   "execution_count": 6,
   "metadata": {},
   "outputs": [],
   "source": [
    "from metric_learn import LMNN    # pip install metric-learn"
   ]
  },
  {
   "cell_type": "code",
   "execution_count": 12,
   "metadata": {},
   "outputs": [
    {
     "name": "stderr",
     "output_type": "stream",
     "text": [
      "D:\\anaconda\\envs\\AI_1\\lib\\site-packages\\sklearn\\utils\\validation.py:63: DataConversionWarning: A column-vector y was passed when a 1d array was expected. Please change the shape of y to (n_samples, ), for example using ravel().\n",
      "  return f(*args, **kwargs)\n"
     ]
    },
    {
     "data": {
      "text/plain": [
       "LMNN(learn_rate=1e-06)"
      ]
     },
     "execution_count": 12,
     "metadata": {},
     "output_type": "execute_result"
    }
   ],
   "source": [
    "lmnn = LMNN(k=3, learn_rate=1e-6)   # Hyper parameters: k, learn_rate         --> k=3 || 5 will reach the optimal results\n",
    "lmnn.fit(PCA_reduced_x_train, PCA_reduced_y_train)"
   ]
  },
  {
   "cell_type": "code",
   "execution_count": 20,
   "metadata": {},
   "outputs": [
    {
     "name": "stderr",
     "output_type": "stream",
     "text": [
      "D:\\anaconda\\envs\\AI_1\\lib\\site-packages\\sklearn\\neighbors\\_classification.py:179: DataConversionWarning: A column-vector y was passed when a 1d array was expected. Please change the shape of y to (n_samples,), for example using ravel().\n",
      "  return self._fit(X, y)\n"
     ]
    },
    {
     "data": {
      "text/plain": [
       "KNeighborsClassifier()"
      ]
     },
     "execution_count": 20,
     "metadata": {},
     "output_type": "execute_result"
    }
   ],
   "source": [
    "lmnn_metric=lmnn.get_metric()\n",
    "knn_lmnn = KNeighborsClassifier(n_neighbors=5,metric=lmnn_metric)\n",
    "knn_lmnn.fit(PCA_reduced_x_train, PCA_reduced_y_train)"
   ]
  },
  {
   "cell_type": "code",
   "execution_count": 21,
   "metadata": {},
   "outputs": [
    {
     "name": "stdout",
     "output_type": "stream",
     "text": [
      "Accuracy: 0.8951704735749213\n"
     ]
    }
   ],
   "source": [
    "Y_pred_lmnn = knn_lmnn.predict(PCA_reduced_x_test)\n",
    "print(\"Accuracy:\",metrics.accuracy_score(PCA_reduced_y_test, Y_pred_lmnn))"
   ]
  },
  {
   "cell_type": "markdown",
   "metadata": {},
   "source": [
    "# 2.2 NCA\n",
    "**How does NCA works:**\n",
    "\n",
    "NCA aims to improve the accuracy of nearest neighbors classification compared to the standard Euclidean distance.    \n",
    "    \n",
    "**Optimization Goal:**\n",
    "\n",
    "$\\mathbf{L} = \\text{argmax}\\sum_i p_i$, where $p_i$ represents probability that $x_i$ will be correctly classified by the stochastic nearest neighbors rule. The $p_i$ is calculated by: $p_{i} = \\sum_{j:j\\neq i, y_j=y_i}p_{ij}$.\n",
    "\n",
    "$p_{ij}$ represents the probability that $x_i$ is the neighbor of $x_j$.\n",
    "* $p_{ij} = \\frac{\\exp(-|| \\mathbf{Lx}_i - \\mathbf{Lx}_j ||_2^2)}\n",
    "{\\sum_{l\\neq i}\\exp(-||\\mathbf{Lx}_i - \\mathbf{Lx}_l||_2^2)},\n",
    "\\qquad$ --> softmax likelihood of the Mahalanobis distance\n",
    "* $p_{ii}=0$\n",
    "\n",
    "**Brief Explanation:**\n",
    "Find matrix L that maximizes the sum of probability of being correctly classified"
   ]
  },
  {
   "cell_type": "code",
   "execution_count": 6,
   "metadata": {},
   "outputs": [],
   "source": [
    "from metric_learn import NCA"
   ]
  },
  {
   "cell_type": "code",
   "execution_count": 7,
   "metadata": {},
   "outputs": [],
   "source": [
    "nca = NCA(max_iter=1000)   # Hyper parameters  --> by default"
   ]
  },
  {
   "cell_type": "code",
   "execution_count": null,
   "metadata": {},
   "outputs": [],
   "source": [
    "nca.fit(PCA_reduced_x_train, PCA_reduced_y_train)"
   ]
  },
  {
   "cell_type": "code",
   "execution_count": null,
   "metadata": {},
   "outputs": [],
   "source": [
    "nca_metric=nca.get_metric()\n",
    "knn_nca = KNeighborsClassifier(n_neighbors=5)\n",
    "knn_nca.fit(PCA_reduced_x_train, PCA_reduced_y_train)"
   ]
  },
  {
   "cell_type": "code",
   "execution_count": null,
   "metadata": {},
   "outputs": [],
   "source": [
    "Y_pred_lmnn = knn_nca.predict(PCA_reduced_x_test)\n",
    "print(\"Accuracy:\",metrics.accuracy_score(PCA_reduced_y_test, Y_pred_nca))"
   ]
  },
  {
   "cell_type": "markdown",
   "metadata": {},
   "source": [
    "# 2.3 LFDA\n",
    "**How does LFDA works:**\n",
    "\n",
    "LFDA is a linear supervised dimensionality reduction method which effectively combines the ideas of **Linear Discriminant Analysis and Locality-Preserving Projection**.\n",
    "    \n",
    "**Optimization Goal:**\n",
    "\n",
    "$\\mathbf{L}_{LFDA} = \\arg\\max_\\mathbf{L}\n",
    "[\\text{tr}((\\mathbf{L}^T\\mathbf{S}^{(w)}\n",
    "\\mathbf{L})^{-1}\\mathbf{L}^T\\mathbf{S}^{(b)}\\mathbf{L})]$\n",
    "\n",
    "Intuition: Looking for a transformation matrix L such that nearby data pairs in the same class are made close and the data pairs in different classes are separated from each other. It is solved as a generalized eigenvalue problem.(like SVD)\n",
    "\n",
    "* Fisher local within class scatter matrix: \\mathbf{S}^{(w)}\n",
    "* Fisher local between class scatter matrix: \\mathbf{S}^{(b)}\n",
    "\n",
    "$\\begin{split}\\mathbf{S}^{(w)} = \\frac{1}{2}\\sum_{i,j=1}^nW_{ij}^{(w)}(\\mathbf{x}_i -\n",
    "\\mathbf{x}_j)(\\mathbf{x}_i - \\mathbf{x}_j)^T,\\\\\n",
    "\\mathbf{S}^{(b)} = \\frac{1}{2}\\sum_{i,j=1}^nW_{ij}^{(b)}(\\mathbf{x}_i -\n",
    "\\mathbf{x}_j)(\\mathbf{x}_i - \\mathbf{x}_j)^T,\\\\\\end{split}$\n",
    "\n",
    "where: $\\begin{split}W_{ij}^{(w)} = \\left\\{\\begin{aligned}0 \\qquad y_i\\neq y_j \\\\\n",
    "\\,\\,\\mathbf{A}_{i,j}/n_l \\qquad y_i = y_j\\end{aligned}\\right.\\\\\n",
    "W_{ij}^{(b)} = \\left\\{\\begin{aligned}1/n \\qquad y_i\\neq y_j \\\\\n",
    "\\,\\,\\mathbf{A}_{i,j}(1/n-1/n_l) \\qquad y_i = y_j\\end{aligned}\\right.\\\\\\end{split}$\n",
    "\n",
    "**Brief Explanation:** $A_{i,j}$  is the (i,j)-th entry of the affinity matrix A:, which can be calculated with local scaling methods, $n,\\ n_l$ are the total number of points and the number of points per cluster $l$ respectively.\n",
    "\n",
    "Note:It is particularly useful when dealing with multi-modality, where one ore more classes consist of separate clusters in input space.\n"
   ]
  },
  {
   "cell_type": "code",
   "execution_count": 17,
   "metadata": {},
   "outputs": [],
   "source": [
    "from metric_learn import LFDA"
   ]
  },
  {
   "cell_type": "code",
   "execution_count": 19,
   "metadata": {},
   "outputs": [],
   "source": [
    "lfda = LFDA(k=7,n_components=49)  # Hps: k,n_components"
   ]
  },
  {
   "cell_type": "code",
   "execution_count": null,
   "metadata": {},
   "outputs": [],
   "source": [
    "lfda.fit(PCA_reduced_x_train, PCA_reduced_y_train)"
   ]
  },
  {
   "cell_type": "code",
   "execution_count": null,
   "metadata": {},
   "outputs": [],
   "source": [
    "lfda_metric=mlkr.get_metric()\n",
    "knn_lfda = KNeighborsClassifier(n_neighbors=5)\n",
    "knn_lfda.fit(PCA_reduced_x_train, PCA_reduced_y_train)"
   ]
  },
  {
   "cell_type": "code",
   "execution_count": null,
   "metadata": {},
   "outputs": [],
   "source": []
  },
  {
   "cell_type": "markdown",
   "metadata": {},
   "source": [
    "# 2.4 MLKR\n",
    "**How does MLKR works:**\n",
    "\n",
    "MLKR learns a distance function by directly minimizing the leave-one-out regression error.\n",
    "\n",
    "**Optimization Goal:**\n",
    "\n",
    "$\\mathcal{L} = \\sum_i(y_i - \\hat{y}_i)^2$\n",
    "\n",
    "$\\hat{y}_i = \\frac{\\sum_{j\\neq i}y_jk_{ij}}{\\sum_{j\\neq i}k_{ij}}$  \n",
    "\n",
    "where:\n",
    "\n",
    "$k_{ij} = \\frac{1}{\\sqrt{2\\pi}\\sigma}\\exp(-\\frac{d(\\mathbf{x}_i,\n",
    "\\mathbf{x}_j)}{\\sigma^2}),\\quad $ $where\\ d(\\mathbf{x}_i,\n",
    "\\mathbf{x}_j) = ||\\mathbf{L}(\\mathbf{x}_i - \\mathbf{x}_j)||$\n",
    "\n",
    "the transition matrix $\\mathbf{L}$ is derived from the decomposition of Mahalanobis matrix: $\\mathbf{M=L^TL}$\n",
    "\n",
    "**Brief Explanation:** MLKR can be viewed as a supervised variation of PCA that calculates y_predict through a weighted average of all the training samples from kernel regression.\n",
    "\n",
    "Note: Theoretically, MLKR can be applied with many types of kernel functions and distance metrics, here we just focus the exposition on a particular instance of the Gaussian kernel and Mahalanobis metric"
   ]
  },
  {
   "cell_type": "code",
   "execution_count": 13,
   "metadata": {},
   "outputs": [],
   "source": [
    "from metric_learn import MLKR"
   ]
  },
  {
   "cell_type": "code",
   "execution_count": 15,
   "metadata": {},
   "outputs": [],
   "source": [
    "mlkr = MLKR()"
   ]
  },
  {
   "cell_type": "code",
   "execution_count": null,
   "metadata": {},
   "outputs": [],
   "source": [
    "nca.fit(PCA_reduced_x_train, PCA_reduced_y_train)"
   ]
  },
  {
   "cell_type": "code",
   "execution_count": null,
   "metadata": {},
   "outputs": [],
   "source": [
    "mlkr_metric=mlkr.get_metric()\n",
    "knn_mlkr = KNeighborsClassifier(n_neighbors=5)\n",
    "knn_mlkr.fit(PCA_reduced_x_train, PCA_reduced_y_train)"
   ]
  },
  {
   "cell_type": "markdown",
   "metadata": {},
   "source": [
    "# 3rd. Weakly Supervised Learning\n",
    "\n",
    "**Type:**:\n",
    "* Learning on Pairs\n",
    "* Learning on Triplets\n",
    "* Learning on Quadruplets\n",
    "\n",
    "Note: Here we use the preprocessor to get the target input representations (pair,triplet or quadruplets) from the original input representation(array-like). But if a classical input is provided, the metric learner will not use the preprocessor.\n",
    "\n",
    "**Goal**:\n",
    "A classic example of weaker supervision is a set of positive and negative pairs: in this case, the goal is to learn a distance metric that puts positive pairs close together and negative pairs far away.\n",
    "\n",
    "**Data**:\n",
    "The algorithm has access to a set of data points with supervision only at the **tuple level** (typically pairs, triplets, or quadruplets of data points)"
   ]
  },
  {
   "cell_type": "markdown",
   "metadata": {},
   "source": [
    "# Learning on pairs\n",
    "In this case, one should provide the algorithm with n_samples pairs of points, with a corresponding target containing n_samples values being either +1 or -1. These values indicate whether the given pairs are **similar points or dissimilar points.**"
   ]
  },
  {
   "cell_type": "markdown",
   "metadata": {},
   "source": [
    "# 3.1 ITML \n",
    "**How does ITML works:**\n",
    "\n",
    "ITML minimizes the (differential) relative entropy, aka Kullback–Leibler divergence, between two multivariate Gaussians subject to constraints on the associated Mahalanobis distance, which can be formulated into a Bregman optimization problem by minimizing the LogDet divergence subject to linear constraints.\n",
    "\n",
    "    \n",
    "**Optimization Goal:**\n",
    "\n",
    "minimize: $\\textbf{KL}(p(\\mathbf{x};\n",
    "\\mathbf{M}_0) || p(\\mathbf{x}; \\mathbf{M})),\\ where \\\\\n",
    "p(\\mathbf{x}; \\mathbf{M}) = \\frac{1}{Z}\\exp(-\\frac{1}{2}d_\\mathbf{M}\n",
    "(\\mathbf{x}, \\mu))\n",
    "=  \\frac{1}{Z}\\exp(-\\frac{1}{2}((\\mathbf{x} - \\mu)^T\\mathbf{M}\n",
    "(\\mathbf{x} - \\mu))\n",
    "$\n",
    "Note: $\\mathbf{Z}$ is the normalization constant, the inverse of Mahalanobis matrix $\\mathbf{M}^{-1}$ is the covariance of the Gaussian.\n",
    "\n",
    "\n",
    "By formulated KL divergence into a Bregman optimization problem,we can get an equivalent optimization goal:\n",
    "\n",
    "$\\begin{split}\\min_\\mathbf{A} D_{\\ell \\mathrm{d}}\\left(M, M_{0}\\right) =\n",
    "\\operatorname{tr}\\left(M M_{0}^{-1}\\right)-\\log \\operatorname{det}\n",
    "\\left(M M_{0}^{-1}\\right)-n\\\\\n",
    "\\text{subject to } \\quad d_\\mathbf{M}(\\mathbf{x}_i, \\mathbf{x}_j)\n",
    "\\leq u \\qquad (\\mathbf{x}_i, \\mathbf{x}_j)\\in S \\\\\n",
    "d_\\mathbf{M}(\\mathbf{x}_i, \\mathbf{x}_j) \\geq l \\qquad (\\mathbf{x}_i,\n",
    "\\mathbf{x}_j)\\in D\\end{split}$\n",
    "\n",
    "where $u$ and $l$ is the upper and the lower bound of distance for similar and dissimilar pairs respectively, and $\\mathbf{M_0}$ is the prior distance metric, set to identity matrix by default, $D_{\\ell \\mathrm{d}}(\\cdot)$ is the log determinant. $\\mathbf{S}$ is pairs of similar points and $\\mathbf{D}$ is pairs of dissimilar points.\n",
    "\n",
    "\n",
    "\n",
    "\n",
    "\n",
    "**Brief Explanation:**\n",
    "\n",
    "Unlike some other methods, ITML does not rely on an eigenvalue computation or semi-definite programming. So it can handle a wide variety of constraints and can optionally incorporate a prior on the distance function."
   ]
  },
  {
   "cell_type": "code",
   "execution_count": 1,
   "metadata": {},
   "outputs": [],
   "source": [
    "from metric_learn import ITML"
   ]
  },
  {
   "cell_type": "code",
   "execution_count": null,
   "metadata": {},
   "outputs": [],
   "source": [
    "itml = ITML(preprocessor=PCA_reduced_x_train)"
   ]
  },
  {
   "cell_type": "code",
   "execution_count": null,
   "metadata": {},
   "outputs": [],
   "source": []
  },
  {
   "cell_type": "markdown",
   "metadata": {},
   "source": [
    "# 3.2 SDML\n",
    "**How does SDML works:**\n",
    "\n",
    "Double regularization: an L1-penalization on the off-diagonal elements of the Mahalanobis matrix $\\mathbf{M}$, and a log-determinant divergence between $\\mathbf{M}$ and $\\mathbf{M_0}$ \n",
    "    \n",
    "**Optimization Goal:**\n",
    "\n",
    "$\\min_{\\mathbf{M}} = \\text{tr}((\\mathbf{M}_0 + \\eta \\mathbf{XLX}^{T})\n",
    "\\cdot \\mathbf{M}) - \\log\\det \\mathbf{M} + \\lambda ||\\mathbf{M}||_{1, off}$\n",
    "\n",
    "**Brief Explanation:**\n",
    "\n",
    "$\\mathbf{X}=[\\mathbf{x}_1, \\mathbf{x}_2, ..., \\mathbf{x}_n]$ is the training data (pairs of data). Laplacian matrix $\\mathbf{L}=\\mathbf{D}-\\mathbf{K}$, where $\\mathbf{D}$ is a diagonal matrix whose entries are the sums of the row elements of $\\mathbf{K}$. Note that $||\\cdot||_{1, off}$ is the off-diagonal L1 norm and $\\lambda$ is the weight coefficient."
   ]
  },
  {
   "cell_type": "code",
   "execution_count": null,
   "metadata": {},
   "outputs": [],
   "source": []
  },
  {
   "cell_type": "markdown",
   "metadata": {},
   "source": [
    "# 3.3 RCA \n",
    "**How does RCA works:**\n",
    "\n",
    "RCA learns a full rank Mahalanobis distance metric based on a weighted sum of in-chunklets covariance matrices. It applies a global linear transformation to assign large weights to relevant dimensions and low weights to irrelevant dimensions. Those relevant dimensions are estimated using “chunklets”, subsets of points that are known to belong to the same class.\n",
    "    \n",
    "**Computation Goal:**\n",
    "\n",
    "simply computes:\n",
    "\n",
    "$\\mathbf{C} = \\frac{1}{n}\\sum_{j=1}^k\\sum_{i=1}^{n_j}\n",
    "(\\mathbf{x}_{ji}-\\hat{\\mathbf{m}}_j)\n",
    "(\\mathbf{x}_{ji}-\\hat{\\mathbf{m}}_j)^T$, where n is the number of training points and k is the number of chunklets.\n",
    "\n",
    "After we calculate $\\mathbf{C}$, we can get the inverse $\\mathbf{C^{-1}}$ and use it as the Mahalanobis matrix to calculate distance metric as usual.\n",
    "\n",
    "**Brief Explanation:**\n",
    "\n",
    "You can view $\\mathbf{C}$ as an average sum of chunklets, where each chunklet $j$ is consist of $\\{\\mathbf{x}_{ji}\\}_{i=1}^{n_j}$ and a mean $\\hat{m}_j$."
   ]
  },
  {
   "cell_type": "code",
   "execution_count": null,
   "metadata": {},
   "outputs": [],
   "source": []
  },
  {
   "cell_type": "markdown",
   "metadata": {},
   "source": [
    "# 3.4 MMC \n",
    "**How does MMC works:**\n",
    "\n",
    "MMC minimizes the sum of squared distances between similar points, while enforcing the sum of distances between dissimilar ones to be greater than one.\n",
    "    \n",
    "**Optimization Goal:**\n",
    "\n",
    "$\\min_{\\mathbf{M}\\in\\mathbb{S}_+^d}\\sum_{(\\mathbf{x}_i,\n",
    "\\mathbf{x}_j)\\in S} d_{\\mathbf{M}}(\\mathbf{x}_i, \\mathbf{x}_j)\n",
    "\\\\ \\text{s.t.} \\qquad \\sum_{(\\mathbf{x}_i, \\mathbf{x}_j)\n",
    "\\in D} d^2_{\\mathbf{M}}(\\mathbf{x}_i, \\mathbf{x}_j) \\geq 1$\n",
    "\n",
    "**Brief Explanation:**\n",
    "\n",
    "MMC's optimization goal leads to a convex function. And we know that local-minima-free optimization problem that can be solved efficiently, so this is an advantage of MMC. However, the algorithm involves the computation of eigenvalues, which is the main speed-bottleneck. Since it has initially been designed for clustering applications, one of the implicit assumptions of MMC is that all classes form a compact set, i.e., follow a unimodal distribution, which restricts the possible use-cases of this method."
   ]
  },
  {
   "cell_type": "code",
   "execution_count": null,
   "metadata": {},
   "outputs": [],
   "source": []
  },
  {
   "cell_type": "markdown",
   "metadata": {},
   "source": [
    "# Learning on triplets\n",
    "In this case, one should provide the algorithm with n_samples triplets of points. The semantic of each triplet is that the **first point should be closer to the second point than to the third one.**"
   ]
  },
  {
   "cell_type": "markdown",
   "metadata": {},
   "source": [
    "# 3.5 SCML \n",
    "**How does SCML works:**\n",
    "\n",
    "SCML learns a squared Mahalanobis distance from triplet constraints by optimizing sparse positive weights assigned to a set of K rank-one PSD bases. This can be formulated as an optimization problem with only K parameters.\n",
    "    \n",
    "**Optimization Goal:**\n",
    "\n",
    "$\\min_{w\\geq 0} \\sum_{(x_i,x_j,x_k)\\in C} [1 + d_w(x_i,x_j)-d_w(x_i,x_k)]_+ + \\beta||w||_1$, where \n",
    "\n",
    "$d_w(x_i,x_j)$ is the Mahalanobis distance. Mahalanobis matrix is calculated by:\n",
    "\n",
    "$M = \\sum_{i=1}^K w_i b_i b_i^T = B \\cdot diag(w) \\cdot B^T \\quad w_i \\geq 0 \\\\ $\n",
    "\n",
    "**Brief Explanation:**\n",
    "\n",
    "$\\mathbf{C}$ is the set of triplets where $(x_i,x_j,x_k)$ is one triplet. $\\beta||w||_1$ is a L1 regularization and $[\\cdot]_+$ is the hinge loss. \n",
    "\n",
    "The Mahalanobis matrix $\\mathbf{M}$ is built from a basis set $B = \\{b_i\\}_{i=\\{1,...,K\\}}$ weighted by a K dimensional vector $w = \\{w_i\\}_{i=\\{1,...,K\\}}$. Note that $w$ are sparse positive weights of K dimension and $B$ is K rank-one PSD bases. The optimization problem of $w$ is solved with an efficient stochastic composite scheme."
   ]
  },
  {
   "cell_type": "code",
   "execution_count": null,
   "metadata": {},
   "outputs": [],
   "source": []
  },
  {
   "cell_type": "markdown",
   "metadata": {},
   "source": [
    "# Learning on Quadruplets\n",
    "In this case, one should provide the algorithm with n_samples quadruplets of points. The semantic of each quadruplet is that **the first two points should be closer together than the last two points.**"
   ]
  },
  {
   "cell_type": "markdown",
   "metadata": {},
   "source": [
    "# 3.6 LSML \n",
    "**How does LSML works:**\n",
    "\n",
    "It minimizes a convex objective function corresponding to the sum of squared residuals of constraints. \n",
    "    \n",
    "**Optimization Goal:**\n",
    "\n",
    "minimizing the summed loss function of all constraints plus a regularization term:\n",
    "\n",
    "$\\begin{split}\\min_\\mathbf{M}(D_{ld}(\\mathbf{M, M_0}) + \\sum_{(\\mathbf{x}_i,\n",
    "\\mathbf{x}_j, \\mathbf{x}_k, \\mathbf{x}_l)\\in C}H(d_\\mathbf{M}(\n",
    "\\mathbf{x}_i, \\mathbf{x}_j) - d_\\mathbf{M}(\\mathbf{x}_k, \\mathbf{x}_l))\\\\\\end{split}$\n",
    "\n",
    "where $D_{ld}(\\mathbf{\\cdot, \\cdot})$ is the LogDet divergence: $\n",
    "D_{ld}(\\mathbf{M, M_0}) = \\text{tr}(\\mathbf{MM_0}) − \\text{logdet}\n",
    "(\\mathbf{M}) $ and $\\mathbf{M_0}$ is the prior metric matrix ( in the code we set it as identity by default).\n",
    "\n",
    "$\n",
    "C = \\{(\\mathbf{x}_i , \\mathbf{x}_j , \\mathbf{x}_k , \\mathbf{x}_l)\n",
    ": d(\\mathbf{x}_i , \\mathbf{x}_j) < d(\\mathbf{x}_k , \\mathbf{x}_l)\\}$ is the constraint set,\n",
    "\n",
    "where we calculate the loss $H(d_\\mathbf{M}(\\mathbf{x}_i, \\mathbf{x}_j) - d_\\mathbf{M}(\\mathbf{x}_k, \\mathbf{x}_l))$ for each of the constrains $d(\\mathbf{x}_i, \\mathbf{x}_j) < d(\\mathbf{x}_k, \\mathbf{x}_l)$ in $\\mathbf{C}$.\n",
    "Here $H(\\cdot)$ is the squared Hinge loss function defined as: $\\begin{split}H(x) = \\left\\{\\begin{aligned}0 \\qquad x\\leq 0 \\\\\n",
    "\\,\\,x^2 \\qquad x>0\\end{aligned}\\right.\\\\\\end{split}$\n",
    "\n",
    "**Brief Explanation:**\n",
    "\n",
    "LSML uses the constraints in the form of the relative distance comparisons. Thus, it is especially useful where pairwise constraints are not natural to obtain, where pairwise constraints based algorithms become infeasible to be deployed. Furthermore, its sparsity extension leads to more stable estimation when the dimension is high and only a small amount of constraints is given. \n",
    "\n",
    "Note that the original paper suggested summed loss function $L(C)$ should be a weighted sum since the confidence or probability of each constraint might differ. However, for the sake of simplicity and assumption of no extra knowledge provided, we just deploy the simple sum here."
   ]
  },
  {
   "cell_type": "code",
   "execution_count": null,
   "metadata": {},
   "outputs": [],
   "source": []
  },
  {
   "cell_type": "code",
   "execution_count": null,
   "metadata": {},
   "outputs": [],
   "source": []
  },
  {
   "cell_type": "code",
   "execution_count": null,
   "metadata": {},
   "outputs": [],
   "source": []
  },
  {
   "cell_type": "code",
   "execution_count": null,
   "metadata": {},
   "outputs": [],
   "source": []
  },
  {
   "cell_type": "code",
   "execution_count": null,
   "metadata": {},
   "outputs": [],
   "source": []
  }
 ],
 "metadata": {
  "kernelspec": {
   "display_name": "Python 3",
   "language": "python",
   "name": "python3"
  },
  "language_info": {
   "codemirror_mode": {
    "name": "ipython",
    "version": 3
   },
   "file_extension": ".py",
   "mimetype": "text/x-python",
   "name": "python",
   "nbconvert_exporter": "python",
   "pygments_lexer": "ipython3",
   "version": "3.8.5"
  }
 },
 "nbformat": 4,
 "nbformat_minor": 4
}
