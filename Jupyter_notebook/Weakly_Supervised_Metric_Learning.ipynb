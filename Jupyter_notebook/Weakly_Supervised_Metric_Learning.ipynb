{
 "cells": [
  {
   "cell_type": "code",
   "execution_count": 23,
   "metadata": {},
   "outputs": [],
   "source": [
    "import pandas as pd\n",
    "import numpy as np\n",
    "import matplotlib.pyplot as plt\n",
    "from sklearn import metrics, model_selection\n",
    "from sklearn.neighbors import KNeighborsClassifier\n",
    "from sklearn.decomposition import PCA\n",
    "import os\n",
    "from metric_learn import MMC\n",
    "from metric_learn import ITML\n",
    "from metric_learn import SDML"
   ]
  },
  {
   "cell_type": "markdown",
   "metadata": {},
   "source": [
    "# Data import"
   ]
  },
  {
   "cell_type": "code",
   "execution_count": 35,
   "metadata": {},
   "outputs": [],
   "source": [
    "if not os.path.exists(r'Dataset\\reduced_x_train.npy'):\n",
    "    PCA_preprocessing()\n",
    "pca_reduced_x_train = np.load(r'Dataset\\reduced_x_train.npy')\n",
    "pca_reduced_x_test = np.load(r'Dataset\\reduced_x_test.npy')\n",
    "pca_reduced_y_train = np.load(r'Dataset\\reduced_y_train.npy')\n",
    "pca_reduced_y_test = np.load(r'Dataset\\reduced_y_test.npy')"
   ]
  },
  {
   "cell_type": "markdown",
   "metadata": {},
   "source": [
    "# Preprocessor\n",
    "Get the target input representations (pair,triplet or quadru-plets) from the original input representation(array-like).\n",
    "\n",
    "**Note:**\n",
    "The way of specifying pairs is not recommended for a large number of tuples, as it is redundant and hence takes a lot of memory. Indeed each feature vector of a point will be replicated as many times as a point is involved in a tuple. \n",
    "\n",
    "Instead of forming each point in each tuple, a more efficient representation would be to keep the dataset of points `X-features` aside, and just represent tuples as a collection of **tuples of indices** from the points in `X-features`."
   ]
  },
  {
   "cell_type": "markdown",
   "metadata": {},
   "source": [
    "# Pairs construction\n",
    "Get 15000 similar pairs' indices and 15000 dissimilar pairs' indices from pca_reduced_x_train, total number of training pairs: 30000\n",
    "\n",
    "One pair sample: (a,b), where a,b are both sampled from pca_reduced_x_train"
   ]
  },
  {
   "cell_type": "code",
   "execution_count": 95,
   "metadata": {},
   "outputs": [],
   "source": [
    "np.random.seed=1     # set the numpy.random.seed to ensure that each permutation follow the same order, which means that permutated_pca_reduced_x_train,permutated_pca_reduced_y_train are still matched"
   ]
  },
  {
   "cell_type": "markdown",
   "metadata": {},
   "source": [
    "### permutated data"
   ]
  },
  {
   "cell_type": "code",
   "execution_count": 102,
   "metadata": {},
   "outputs": [],
   "source": [
    "permutated_pca_reduced_x_train=np.random.permutation(pca_reduced_x_train)\n",
    "permutated_pca_reduced_y_train=np.random.permutation(pca_reduced_y_train)"
   ]
  },
  {
   "cell_type": "code",
   "execution_count": 104,
   "metadata": {},
   "outputs": [],
   "source": [
    "p_sorted_pca_reduced_y_train=np.sort(np.squeeze(permutated_pca_reduced_y_train))\n",
    "p_sort_indices=np.argsort(np.squeeze(permutated_pca_reduced_y_train))\n",
    "p_sorted_pca_reduced_x_train=permutated_pca_reduced_x_train[p_sort_indices,:]"
   ]
  },
  {
   "cell_type": "code",
   "execution_count": 105,
   "metadata": {},
   "outputs": [
    {
     "name": "stdout",
     "output_type": "stream",
     "text": [
      "(22393, 50) (22393,)\n"
     ]
    }
   ],
   "source": [
    "print(p_sorted_pca_reduced_x_train.shape,p_sorted_pca_reduced_y_train.shape)"
   ]
  },
  {
   "cell_type": "code",
   "execution_count": 106,
   "metadata": {},
   "outputs": [
    {
     "data": {
      "text/plain": [
       "array([ 8343,  6550,  8187, 15921,  6005, 14205, 20194,  1010, 15898,\n",
       "        9743], dtype=int64)"
      ]
     },
     "execution_count": 106,
     "metadata": {},
     "output_type": "execute_result"
    }
   ],
   "source": [
    "p_sort_indices[:10]"
   ]
  },
  {
   "cell_type": "code",
   "execution_count": 107,
   "metadata": {},
   "outputs": [
    {
     "data": {
      "text/plain": [
       "array([1, 1, 1, 1, 1, 1, 1, 1, 1, 1], dtype=int64)"
      ]
     },
     "execution_count": 107,
     "metadata": {},
     "output_type": "execute_result"
    }
   ],
   "source": [
    "p_sorted_pca_reduced_y_train[:10]"
   ]
  },
  {
   "cell_type": "markdown",
   "metadata": {},
   "source": [
    "### non-permutated data"
   ]
  },
  {
   "cell_type": "code",
   "execution_count": 57,
   "metadata": {},
   "outputs": [],
   "source": [
    "sorted_pca_reduced_y_train=np.sort(np.squeeze(pca_reduced_y_train))\n",
    "sort_indices=np.argsort(np.squeeze(pca_reduced_y_train))\n",
    "sorted_pca_reduced_x_train=pca_reduced_x_train[sort_indices,:]"
   ]
  },
  {
   "cell_type": "code",
   "execution_count": 58,
   "metadata": {},
   "outputs": [
    {
     "name": "stdout",
     "output_type": "stream",
     "text": [
      "(22393, 50) (22393,)\n"
     ]
    }
   ],
   "source": [
    "print(sorted_pca_reduced_x_train.shape,sorted_pca_reduced_y_train.shape)"
   ]
  },
  {
   "cell_type": "code",
   "execution_count": 83,
   "metadata": {},
   "outputs": [
    {
     "data": {
      "text/plain": [
       "array([    0,  1699, 18938,  4676,  9152,  4685, 12619,  4696, 12602,\n",
       "       18960], dtype=int64)"
      ]
     },
     "execution_count": 83,
     "metadata": {},
     "output_type": "execute_result"
    }
   ],
   "source": [
    "sort_indices[:10]"
   ]
  },
  {
   "cell_type": "code",
   "execution_count": 84,
   "metadata": {},
   "outputs": [
    {
     "data": {
      "text/plain": [
       "array([1, 1, 1, 1, 1, 1, 1, 1, 1, 1], dtype=int64)"
      ]
     },
     "execution_count": 84,
     "metadata": {},
     "output_type": "execute_result"
    }
   ],
   "source": [
    "sorted_pca_reduced_y_train[:10]"
   ]
  },
  {
   "cell_type": "markdown",
   "metadata": {},
   "source": [
    "## Dissimilar pairs construction "
   ]
  },
  {
   "cell_type": "code",
   "execution_count": 60,
   "metadata": {},
   "outputs": [],
   "source": [
    "a_train,_,a_y_train,_=model_selection.train_test_split(sorted_pca_reduced_x_train, sorted_pca_reduced_y_train, test_size=0.32,random_state=1, stratify=sorted_pca_reduced_y_train)"
   ]
  },
  {
   "cell_type": "code",
   "execution_count": 61,
   "metadata": {},
   "outputs": [
    {
     "name": "stdout",
     "output_type": "stream",
     "text": [
      "(15227, 50) (15227,)\n"
     ]
    }
   ],
   "source": [
    "print(a_train.shape,a_y_train.shape)"
   ]
  },
  {
   "cell_type": "code",
   "execution_count": 62,
   "metadata": {},
   "outputs": [
    {
     "data": {
      "text/plain": [
       "array([29, 24, 19, 13,  1, 40, 35, 20,  3, 21], dtype=int64)"
      ]
     },
     "execution_count": 62,
     "metadata": {},
     "output_type": "execute_result"
    }
   ],
   "source": [
    "a_y_train[:10]"
   ]
  },
  {
   "cell_type": "code",
   "execution_count": 63,
   "metadata": {},
   "outputs": [],
   "source": [
    "b_train,_,b_y_train,_=model_selection.train_test_split(sorted_pca_reduced_x_train, sorted_pca_reduced_y_train, test_size=0.32,random_state=2, stratify=sorted_pca_reduced_y_train)"
   ]
  },
  {
   "cell_type": "code",
   "execution_count": 64,
   "metadata": {},
   "outputs": [
    {
     "name": "stdout",
     "output_type": "stream",
     "text": [
      "(15227, 50) (15227,)\n"
     ]
    }
   ],
   "source": [
    "print(a_train.shape,a_y_train.shape)"
   ]
  },
  {
   "cell_type": "code",
   "execution_count": 108,
   "metadata": {},
   "outputs": [
    {
     "data": {
      "text/plain": [
       "array([ 1, 48, 37, 26, 23, 27, 37, 20, 33, 39], dtype=int64)"
      ]
     },
     "execution_count": 108,
     "metadata": {},
     "output_type": "execute_result"
    }
   ],
   "source": [
    "b_y_train[:10]     # we can see that (a_train,b_train) are dissimilar pairs "
   ]
  },
  {
   "cell_type": "code",
   "execution_count": 112,
   "metadata": {},
   "outputs": [
    {
     "data": {
      "text/plain": [
       "(15227, 2, 50)"
      ]
     },
     "execution_count": 112,
     "metadata": {},
     "output_type": "execute_result"
    }
   ],
   "source": [
    "train_pairs_dissimilar=[]\n",
    "for row in range(a_train.shape[0]):\n",
    "    tmp_pair=[a_train[row].tolist(),b_train[row].tolist()]\n",
    "    train_pairs_dissimilar.append(tmp_pair)\n",
    "np.shape(train_pairs_dissimilar)    # (n_tuples, tuple_size, n_features)"
   ]
  },
  {
   "cell_type": "code",
   "execution_count": 114,
   "metadata": {},
   "outputs": [],
   "source": [
    "y_pairs_dissimilar=-1*np.ones(np.shape(train_pairs_dissimilar)[0])"
   ]
  },
  {
   "cell_type": "code",
   "execution_count": 117,
   "metadata": {},
   "outputs": [
    {
     "name": "stdout",
     "output_type": "stream",
     "text": [
      "(15227, 2, 50) (15227,)\n"
     ]
    }
   ],
   "source": [
    "print(np.shape(train_pairs_dissimilar),y_pairs_dissimilar.shape)"
   ]
  },
  {
   "cell_type": "markdown",
   "metadata": {},
   "source": [
    "## Similar pairs construction "
   ]
  },
  {
   "cell_type": "code",
   "execution_count": 118,
   "metadata": {},
   "outputs": [],
   "source": [
    "b_train_si,_,b_y_train_si,_=model_selection.train_test_split(p_sorted_pca_reduced_x_train, p_sorted_pca_reduced_y_train, test_size=0.32,random_state=1, stratify=p_sorted_pca_reduced_y_train)"
   ]
  },
  {
   "cell_type": "code",
   "execution_count": 119,
   "metadata": {},
   "outputs": [
    {
     "data": {
      "text/plain": [
       "array([29, 24, 19, 13,  1, 40, 35, 20,  3, 21], dtype=int64)"
      ]
     },
     "execution_count": 119,
     "metadata": {},
     "output_type": "execute_result"
    }
   ],
   "source": [
    "a_y_train[:10]"
   ]
  },
  {
   "cell_type": "code",
   "execution_count": 120,
   "metadata": {},
   "outputs": [
    {
     "data": {
      "text/plain": [
       "array([29, 24, 19, 13,  1, 40, 35, 20,  3, 21], dtype=int64)"
      ]
     },
     "execution_count": 120,
     "metadata": {},
     "output_type": "execute_result"
    }
   ],
   "source": [
    "b_y_train_si[:10]"
   ]
  },
  {
   "cell_type": "code",
   "execution_count": 125,
   "metadata": {},
   "outputs": [
    {
     "data": {
      "text/plain": [
       "(15227, 2, 50)"
      ]
     },
     "execution_count": 125,
     "metadata": {},
     "output_type": "execute_result"
    }
   ],
   "source": [
    "train_pairs_similar=[]\n",
    "for row in range(a_train.shape[0]):\n",
    "    tmp_pair=[a_train[row].tolist(),b_train_si[row].tolist()]\n",
    "    train_pairs_similar.append(tmp_pair)\n",
    "np.shape(train_pairs_similar)    # (n_tuples, tuple_size, n_features)"
   ]
  },
  {
   "cell_type": "code",
   "execution_count": 126,
   "metadata": {},
   "outputs": [],
   "source": [
    "y_pairs_similar=np.ones(np.shape(train_pairs_similar)[0])"
   ]
  },
  {
   "cell_type": "code",
   "execution_count": 128,
   "metadata": {},
   "outputs": [
    {
     "name": "stdout",
     "output_type": "stream",
     "text": [
      "(15227, 2, 50) (15227,)\n"
     ]
    }
   ],
   "source": [
    "print(np.shape(train_pairs_similar),y_pairs_similar.shape)"
   ]
  },
  {
   "cell_type": "markdown",
   "metadata": {},
   "source": [
    "# Train pairs construction"
   ]
  },
  {
   "cell_type": "code",
   "execution_count": 131,
   "metadata": {},
   "outputs": [
    {
     "data": {
      "text/plain": [
       "(30454, 2, 50)"
      ]
     },
     "execution_count": 131,
     "metadata": {},
     "output_type": "execute_result"
    }
   ],
   "source": [
    "train_pairs=np.vstack((train_pairs_dissimilar,train_pairs_similar))\n",
    "train_pairs.shape"
   ]
  },
  {
   "cell_type": "code",
   "execution_count": 134,
   "metadata": {},
   "outputs": [
    {
     "data": {
      "text/plain": [
       "(30454, 1)"
      ]
     },
     "execution_count": 134,
     "metadata": {},
     "output_type": "execute_result"
    }
   ],
   "source": [
    "y_pairs=np.vstack((np.reshape(y_pairs_dissimilar,(-1,1)),np.reshape(y_pairs_similar,(-1,1))))\n",
    "y_pairs.shape"
   ]
  },
  {
   "cell_type": "code",
   "execution_count": 136,
   "metadata": {},
   "outputs": [],
   "source": [
    "# save the data as .npy\n",
    "np.save(r'Dataset\\train_pairs', train_pairs)\n",
    "np.save(r'Dataset\\y_pairs', y_pairs)\n",
    "np.save(r'Dataset\\train_pairs_dissimilar', train_pairs_dissimilar)\n",
    "np.save(r'Dataset\\train_pairs_similar', train_pairs_similar)\n",
    "np.save(r'Dataset\\y_pairs_dissimilar', y_pairs_dissimilar)\n",
    "np.save(r'Dataset\\y_pairs_similar', y_pairs_similar)"
   ]
  },
  {
   "cell_type": "markdown",
   "metadata": {},
   "source": [
    "# Learning on pairs\n",
    "In this case, one should provide the algorithm with `n` pairs of points, with a corresponding target containing `n` values being either +1 or -1. These values indicate whether the given pairs are **similar points or dissimilar points.**\n",
    "\n",
    "Pari metric learning algorithms:\n",
    "* MMC\n",
    "* ITML\n",
    "* SDML"
   ]
  },
  {
   "cell_type": "markdown",
   "metadata": {},
   "source": [
    "# MMC"
   ]
  },
  {
   "cell_type": "code",
   "execution_count": 137,
   "metadata": {},
   "outputs": [],
   "source": [
    "mmc = MMC(random_state=1234, max_iter=100, convergence_threshold=1e-3,verbose=True)"
   ]
  },
  {
   "cell_type": "code",
   "execution_count": 138,
   "metadata": {},
   "outputs": [],
   "source": [
    "mmc.fit(pairs=train_pairs,y=np.squeeze(y_pairs))\n",
    "mmc_metric=mmc.get_metric()"
   ]
  },
  {
   "cell_type": "code",
   "execution_count": 139,
   "metadata": {},
   "outputs": [
    {
     "name": "stderr",
     "output_type": "stream",
     "text": [
      "D:\\anaconda\\envs\\AI_1\\lib\\site-packages\\sklearn\\neighbors\\_classification.py:179: DataConversionWarning: A column-vector y was passed when a 1d array was expected. Please change the shape of y to (n_samples,), for example using ravel().\n",
      "  return self._fit(X, y)\n"
     ]
    },
    {
     "name": "stdout",
     "output_type": "stream",
     "text": [
      "Accuracy: 0.7302565476589189\n"
     ]
    }
   ],
   "source": [
    "knn_mmc = KNeighborsClassifier(n_neighbors=5,metric=mmc_metric)\n",
    "knn_mmc.fit(pca_reduced_x_train, pca_reduced_y_train)\n",
    "Y_pred_mmc = knn_mmc.predict(pca_reduced_x_test)\n",
    "print(\"Accuracy:\",metrics.accuracy_score(pca_reduced_y_test, Y_pred_mmc))"
   ]
  },
  {
   "cell_type": "markdown",
   "metadata": {},
   "source": [
    "# ITML"
   ]
  },
  {
   "cell_type": "code",
   "execution_count": 140,
   "metadata": {},
   "outputs": [],
   "source": [
    "itml=ITML()"
   ]
  },
  {
   "cell_type": "code",
   "execution_count": 141,
   "metadata": {},
   "outputs": [
    {
     "name": "stderr",
     "output_type": "stream",
     "text": [
      "D:\\anaconda\\envs\\AI_1\\lib\\site-packages\\metric_learn\\itml.py:35: FutureWarning: arrays to stack must be passed as a \"sequence\" type such as list or tuple. Support for non-sequence iterables such as generators is deprecated as of NumPy 1.16 and will raise an error in the future.\n",
      "  X = np.vstack({tuple(row) for row in pairs.reshape(-1, pairs.shape[2])})\n",
      "D:\\anaconda\\envs\\AI_1\\lib\\site-packages\\metric_learn\\itml.py:66: RuntimeWarning: divide by zero encountered in double_scalars\n",
      "  alpha = min(_lambda[i], gamma_proj * (1. / wtw - 1. / pos_bhat[i]))\n"
     ]
    }
   ],
   "source": [
    "itml.fit(pairs=train_pairs,y=np.squeeze(y_pairs))\n",
    "itml_metric=itml.get_metric()"
   ]
  },
  {
   "cell_type": "code",
   "execution_count": 142,
   "metadata": {},
   "outputs": [
    {
     "name": "stderr",
     "output_type": "stream",
     "text": [
      "D:\\anaconda\\envs\\AI_1\\lib\\site-packages\\sklearn\\neighbors\\_classification.py:179: DataConversionWarning: A column-vector y was passed when a 1d array was expected. Please change the shape of y to (n_samples,), for example using ravel().\n",
      "  return self._fit(X, y)\n"
     ]
    },
    {
     "name": "stdout",
     "output_type": "stream",
     "text": [
      "Accuracy: 0.8694487239600777\n"
     ]
    }
   ],
   "source": [
    "knn_itml = KNeighborsClassifier(n_neighbors=5,metric=itml_metric)\n",
    "knn_itml.fit(pca_reduced_x_train, pca_reduced_y_train)\n",
    "Y_pred_itml = knn_itml.predict(pca_reduced_x_test)\n",
    "print(\"Accuracy:\",metrics.accuracy_score(pca_reduced_y_test, Y_pred_itml))"
   ]
  },
  {
   "cell_type": "markdown",
   "metadata": {},
   "source": [
    "# SDML"
   ]
  },
  {
   "cell_type": "code",
   "execution_count": 143,
   "metadata": {},
   "outputs": [],
   "source": [
    "sdml=SDML()"
   ]
  },
  {
   "cell_type": "code",
   "execution_count": null,
   "metadata": {},
   "outputs": [],
   "source": [
    "sdml.fit(pairs=train_pairs,y=np.squeeze(y_pairs))\n",
    "sdml_metric=sdml.get_metric()"
   ]
  },
  {
   "cell_type": "code",
   "execution_count": null,
   "metadata": {},
   "outputs": [],
   "source": [
    "knn_sdml = KNeighborsClassifier(n_neighbors=5,metric=sdml_metric)\n",
    "knn_sdml.fit(pca_reduced_x_train, pca_reduced_y_train)\n",
    "Y_pred_sdml = knn_sdml.predict(pca_reduced_x_test)\n",
    "print(\"Accuracy:\",metrics.accuracy_score(pca_reduced_y_test, Y_pred_sdml))"
   ]
  },
  {
   "cell_type": "code",
   "execution_count": null,
   "metadata": {},
   "outputs": [],
   "source": []
  }
 ],
 "metadata": {
  "kernelspec": {
   "display_name": "Python 3",
   "language": "python",
   "name": "python3"
  },
  "language_info": {
   "codemirror_mode": {
    "name": "ipython",
    "version": 3
   },
   "file_extension": ".py",
   "mimetype": "text/x-python",
   "name": "python",
   "nbconvert_exporter": "python",
   "pygments_lexer": "ipython3",
   "version": "3.8.5"
  }
 },
 "nbformat": 4,
 "nbformat_minor": 4
}
